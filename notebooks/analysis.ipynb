{
 "cells": [
  {
   "cell_type": "markdown",
   "id": "7d1cb736",
   "metadata": {},
   "source": [
    "# Fetch Senior Data Analyst Take Home Assessment "
   ]
  },
  {
   "cell_type": "markdown",
   "id": "81d9b7b9",
   "metadata": {},
   "source": [
    "## STEP 1 : EXPLORING DATA¶\n",
    "USER DATA"
   ]
  },
  {
   "cell_type": "code",
   "execution_count": 2,
   "id": "88bb5759",
   "metadata": {},
   "outputs": [],
   "source": [
    "#Importing necessary libraries \n",
    "import pandas as pd \n",
    "import matplotlib.pyplot as plt \n",
    "import seaborn as sns "
   ]
  },
  {
   "cell_type": "code",
   "execution_count": 3,
   "id": "768348d0",
   "metadata": {},
   "outputs": [],
   "source": [
    "#Load the User DataSet\n",
    "users = pd.read_csv('/Users/saiprakashmadderla/fetch-data-analyst-assessment/data/users.csv')"
   ]
  },
  {
   "cell_type": "code",
   "execution_count": 4,
   "id": "45d86134",
   "metadata": {},
   "outputs": [
    {
     "name": "stdout",
     "output_type": "stream",
     "text": [
      "<class 'pandas.core.frame.DataFrame'>\n",
      "RangeIndex: 100000 entries, 0 to 99999\n",
      "Data columns (total 6 columns):\n",
      " #   Column        Non-Null Count   Dtype \n",
      "---  ------        --------------   ----- \n",
      " 0   ID            100000 non-null  object\n",
      " 1   CREATED_DATE  100000 non-null  object\n",
      " 2   BIRTH_DATE    96325 non-null   object\n",
      " 3   STATE         95188 non-null   object\n",
      " 4   LANGUAGE      69492 non-null   object\n",
      " 5   GENDER        94108 non-null   object\n",
      "dtypes: object(6)\n",
      "memory usage: 4.6+ MB\n"
     ]
    },
    {
     "data": {
      "text/html": [
       "<div>\n",
       "<style scoped>\n",
       "    .dataframe tbody tr th:only-of-type {\n",
       "        vertical-align: middle;\n",
       "    }\n",
       "\n",
       "    .dataframe tbody tr th {\n",
       "        vertical-align: top;\n",
       "    }\n",
       "\n",
       "    .dataframe thead th {\n",
       "        text-align: right;\n",
       "    }\n",
       "</style>\n",
       "<table border=\"1\" class=\"dataframe\">\n",
       "  <thead>\n",
       "    <tr style=\"text-align: right;\">\n",
       "      <th></th>\n",
       "      <th>ID</th>\n",
       "      <th>CREATED_DATE</th>\n",
       "      <th>BIRTH_DATE</th>\n",
       "      <th>STATE</th>\n",
       "      <th>LANGUAGE</th>\n",
       "      <th>GENDER</th>\n",
       "    </tr>\n",
       "  </thead>\n",
       "  <tbody>\n",
       "    <tr>\n",
       "      <th>0</th>\n",
       "      <td>5ef3b4f17053ab141787697d</td>\n",
       "      <td>2020-06-24 20:17:54.000 Z</td>\n",
       "      <td>2000-08-11 00:00:00.000 Z</td>\n",
       "      <td>CA</td>\n",
       "      <td>es-419</td>\n",
       "      <td>female</td>\n",
       "    </tr>\n",
       "    <tr>\n",
       "      <th>1</th>\n",
       "      <td>5ff220d383fcfc12622b96bc</td>\n",
       "      <td>2021-01-03 19:53:55.000 Z</td>\n",
       "      <td>2001-09-24 04:00:00.000 Z</td>\n",
       "      <td>PA</td>\n",
       "      <td>en</td>\n",
       "      <td>female</td>\n",
       "    </tr>\n",
       "    <tr>\n",
       "      <th>2</th>\n",
       "      <td>6477950aa55bb77a0e27ee10</td>\n",
       "      <td>2023-05-31 18:42:18.000 Z</td>\n",
       "      <td>1994-10-28 00:00:00.000 Z</td>\n",
       "      <td>FL</td>\n",
       "      <td>es-419</td>\n",
       "      <td>female</td>\n",
       "    </tr>\n",
       "    <tr>\n",
       "      <th>3</th>\n",
       "      <td>658a306e99b40f103b63ccf8</td>\n",
       "      <td>2023-12-26 01:46:22.000 Z</td>\n",
       "      <td>NaN</td>\n",
       "      <td>NC</td>\n",
       "      <td>en</td>\n",
       "      <td>NaN</td>\n",
       "    </tr>\n",
       "    <tr>\n",
       "      <th>4</th>\n",
       "      <td>653cf5d6a225ea102b7ecdc2</td>\n",
       "      <td>2023-10-28 11:51:50.000 Z</td>\n",
       "      <td>1972-03-19 00:00:00.000 Z</td>\n",
       "      <td>PA</td>\n",
       "      <td>en</td>\n",
       "      <td>female</td>\n",
       "    </tr>\n",
       "  </tbody>\n",
       "</table>\n",
       "</div>"
      ],
      "text/plain": [
       "                         ID               CREATED_DATE  \\\n",
       "0  5ef3b4f17053ab141787697d  2020-06-24 20:17:54.000 Z   \n",
       "1  5ff220d383fcfc12622b96bc  2021-01-03 19:53:55.000 Z   \n",
       "2  6477950aa55bb77a0e27ee10  2023-05-31 18:42:18.000 Z   \n",
       "3  658a306e99b40f103b63ccf8  2023-12-26 01:46:22.000 Z   \n",
       "4  653cf5d6a225ea102b7ecdc2  2023-10-28 11:51:50.000 Z   \n",
       "\n",
       "                  BIRTH_DATE STATE LANGUAGE  GENDER  \n",
       "0  2000-08-11 00:00:00.000 Z    CA   es-419  female  \n",
       "1  2001-09-24 04:00:00.000 Z    PA       en  female  \n",
       "2  1994-10-28 00:00:00.000 Z    FL   es-419  female  \n",
       "3                        NaN    NC       en     NaN  \n",
       "4  1972-03-19 00:00:00.000 Z    PA       en  female  "
      ]
     },
     "execution_count": 4,
     "metadata": {},
     "output_type": "execute_result"
    }
   ],
   "source": [
    "#Display basic info about the dataset\n",
    "users.info()\n",
    "users.head()"
   ]
  },
  {
   "cell_type": "code",
   "execution_count": 5,
   "id": "5096f5ff",
   "metadata": {},
   "outputs": [
    {
     "data": {
      "text/plain": [
       "ID                  0\n",
       "CREATED_DATE        0\n",
       "BIRTH_DATE       3675\n",
       "STATE            4812\n",
       "LANGUAGE        30508\n",
       "GENDER           5892\n",
       "dtype: int64"
      ]
     },
     "execution_count": 5,
     "metadata": {},
     "output_type": "execute_result"
    }
   ],
   "source": [
    "# Analyze missing values \n",
    "missing_values = users.isnull().sum()\n",
    "missing_values"
   ]
  },
  {
   "cell_type": "markdown",
   "id": "4cba3ed2",
   "metadata": {},
   "source": [
    "#### Data Quality Issues – Missing Values\n",
    "\n",
    "The dataset has notable missing values:\n",
    "1. BIRTH_DATE: 3,675 missing records, impacting age-based analysis.\n",
    "2. STATE: 4,812 missing records, affecting location analysis.\n",
    "3. LANGUAGE: 30,508 missing records, hindering language preference analysis.\n",
    "4. GENDER: 5,892 missing records, limiting demographic insights.\n",
    "\n",
    "Addressing these missing values will be crucial for accurate analysis and decision-making."
   ]
  },
  {
   "cell_type": "code",
   "execution_count": 6,
   "id": "3376e71a",
   "metadata": {},
   "outputs": [
    {
     "name": "stdout",
     "output_type": "stream",
     "text": [
      "Number of duplicate user IDs: 0\n"
     ]
    }
   ],
   "source": [
    "#Check for duplicate user IDs\n",
    "duplicates = users['ID'].duplicated().sum()\n",
    "print(f'Number of duplicate user IDs: {duplicates}')"
   ]
  },
  {
   "cell_type": "markdown",
   "id": "51910360",
   "metadata": {},
   "source": [
    "No duplicate user IDs were found — good data hygiene"
   ]
  },
  {
   "cell_type": "code",
   "execution_count": 7,
   "id": "88b595c8",
   "metadata": {},
   "outputs": [],
   "source": [
    "#Convert Dates to Datetime Format\n",
    "users['BIRTH_DATE'] = pd.to_datetime(users['BIRTH_DATE'], errors='coerce')\n",
    "users['CREATED_DATE'] = pd.to_datetime(users['CREATED_DATE'], errors='coerce')"
   ]
  },
  {
   "cell_type": "markdown",
   "id": "d780a7e7",
   "metadata": {},
   "source": [
    "Successfully extracted age from BIRTH_DATE.\n",
    "This supports downstream analysis such as age group segmentation and generational trends"
   ]
  },
  {
   "cell_type": "code",
   "execution_count": 8,
   "id": "5f5333bd",
   "metadata": {},
   "outputs": [],
   "source": [
    "#Convert 'BIRTH_DATE' to timezone-naive if it's timezone-aware\n",
    "users['BIRTH_DATE'] = users['BIRTH_DATE'].dt.tz_localize(None)"
   ]
  },
  {
   "cell_type": "code",
   "execution_count": 9,
   "id": "5f57184b",
   "metadata": {},
   "outputs": [],
   "source": [
    "#Calculate User Age from 'BIRTH_DATE'\n",
    "today = pd.to_datetime(\"today\").normalize() # Get today's date\n",
    "users['age'] = (today - users['BIRTH_DATE']).dt.days // 365  \n"
   ]
  },
  {
   "cell_type": "code",
   "execution_count": 10,
   "id": "cad65a43",
   "metadata": {},
   "outputs": [],
   "source": [
    "#Detect Age Outliers (ages < 10 or > 100)\n",
    "users['age_outlier'] = users['age'].apply(lambda x: x < 10 or x > 100 if pd.notnull(x) else False)"
   ]
  },
  {
   "cell_type": "code",
   "execution_count": 11,
   "id": "fa59fe04",
   "metadata": {},
   "outputs": [
    {
     "name": "stdout",
     "output_type": "stream",
     "text": [
      "Common birth dates:\n",
      " 1970-01-01 00:00:00    1272\n",
      "1979-12-11 08:00:00      63\n",
      "2000-12-12 00:00:00      28\n",
      "2000-12-31 00:00:00      23\n",
      "2001-01-01 00:00:00      16\n",
      "Name: BIRTH_DATE, dtype: int64\n",
      "\n",
      "Age outlier distribution:\n",
      " False    99920\n",
      "True        80\n",
      "Name: age_outlier, dtype: int64\n"
     ]
    }
   ],
   "source": [
    "#Analyze Birth Dates and Age Outliers\n",
    "print(\"Common birth dates:\\n\", users['BIRTH_DATE'].value_counts().head())\n",
    "print(\"\\nAge outlier distribution:\\n\", users['age_outlier'].value_counts())"
   ]
  },
  {
   "cell_type": "markdown",
   "id": "92a587c1",
   "metadata": {},
   "source": [
    "Only 80 users were flagged as having age outliers.\n",
    "Common birthdate 1970-01-01 appears 1,272 times — possibly a default/null equivalent."
   ]
  },
  {
   "cell_type": "code",
   "execution_count": 12,
   "id": "5b7332f0",
   "metadata": {},
   "outputs": [],
   "source": [
    "#Clean and Standardize the 'GENDER' Column\n",
    "users['GENDER'] = users['GENDER'].str.lower().str.strip()  # Clean gender entries (lowercase and remove spaces)\n",
    "# Replace similar or inconsistent labels with standard terms\n",
    "users['GENDER'] = users['GENDER'].replace({\n",
    "    \"non-binary\": \"non_binary\",\n",
    "    \"prefer not to say\": \"prefer_not_to_say\",\n",
    "    \"my gender isn't listed\": \"not_listed\",\n",
    "    \"not_specified\": \"not_listed\"\n",
    "})"
   ]
  },
  {
   "cell_type": "markdown",
   "id": "703e948d",
   "metadata": {},
   "source": [
    "Top genders:\n",
    "female: 64%\n",
    "male: 26%\n",
    "Others: 10% (non_binary, prefer_not_to_say, etc.)"
   ]
  },
  {
   "cell_type": "code",
   "execution_count": 13,
   "id": "b848e5b8",
   "metadata": {},
   "outputs": [
    {
     "name": "stdout",
     "output_type": "stream",
     "text": [
      "Unique Genders:\n",
      " female               64240\n",
      "male                 25829\n",
      "transgender           1772\n",
      "prefer_not_to_say     1351\n",
      "non_binary             507\n",
      "not_listed             213\n",
      "unknown                196\n",
      "Name: GENDER, dtype: int64\n",
      "\n",
      "Unique States:\n",
      " TX    9028\n",
      "FL    8921\n",
      "CA    8589\n",
      "NY    5703\n",
      "IL    3794\n",
      "Name: STATE, dtype: int64\n",
      "\n",
      "Unique Languages:\n",
      " en        63403\n",
      "es-419     6089\n",
      "Name: LANGUAGE, dtype: int64\n"
     ]
    }
   ],
   "source": [
    "#Explore Genders, States, and Languages\n",
    "print(\"Unique Genders:\\n\", users['GENDER'].value_counts())\n",
    "print(\"\\nUnique States:\\n\", users['STATE'].value_counts().head())\n",
    "print(\"\\nUnique Languages:\\n\", users['LANGUAGE'].value_counts().head())"
   ]
  },
  {
   "cell_type": "code",
   "execution_count": 14,
   "id": "528884a8",
   "metadata": {},
   "outputs": [
    {
     "data": {
      "image/png": "[encoded data removed]",
      "text/plain": [
       "<Figure size 720x360 with 1 Axes>"
      ]
     },
     "metadata": {
      "needs_background": "light"
     },
     "output_type": "display_data"
    }
   ],
   "source": [
    "# Plot Age Distribution excluding outliers and NaN values\n",
    "plt.figure(figsize=(10,5))\n",
    "sns.histplot(users[~users['age_outlier'] & users['age'].notna()]['age'], bins=30, kde=True)\n",
    "plt.title(\"Age Distribution of Users (Excluding Outliers)\")\n",
    "plt.xlabel(\"Age\")\n",
    "plt.ylabel(\"Frequency\")\n",
    "plt.show()"
   ]
  },
  {
   "cell_type": "code",
   "execution_count": 15,
   "id": "d5cac991",
   "metadata": {},
   "outputs": [
    {
     "data": {
      "image/png": "[encoded data removed]",
      "text/plain": [
       "<Figure size 576x288 with 1 Axes>"
      ]
     },
     "metadata": {
      "needs_background": "light"
     },
     "output_type": "display_data"
    }
   ],
   "source": [
    "#Visualize Missing Data by Column\n",
    "# Create a bar plot to visualize missing data by column\n",
    "plt.figure(figsize=(8,4))\n",
    "missing = users.isnull().mean().sort_values(ascending=False)\n",
    "missing = missing[missing > 0]\n",
    "sns.barplot(x=missing.values, y=missing.index)\n",
    "plt.title(\"Missing Data by Column\")\n",
    "plt.xlabel(\"Fraction of Missing Data\")\n",
    "plt.ylabel(\"Column\")\n",
    "plt.show()"
   ]
  },
  {
   "cell_type": "code",
   "execution_count": 16,
   "id": "7b0cde1c",
   "metadata": {},
   "outputs": [
    {
     "name": "stderr",
     "output_type": "stream",
     "text": [
      "/opt/anaconda3/lib/python3.9/site-packages/pandas/core/arrays/datetimes.py:1162: UserWarning: Converting to PeriodArray/Index representation will drop timezone information.\n",
      "  warnings.warn(\n"
     ]
    },
    {
     "data": {
      "image/png": "[encoded data removed]",
      "text/plain": [
       "<Figure size 576x432 with 1 Axes>"
      ]
     },
     "metadata": {
      "needs_background": "light"
     },
     "output_type": "display_data"
    }
   ],
   "source": [
    "#Analyze User Acquisition Over Time (User Growth)\n",
    "# Group by month and count users\n",
    "users['CREATED_DATE'] = pd.to_datetime(users['CREATED_DATE'], errors='coerce')\n",
    "user_growth = users.groupby(users['CREATED_DATE'].dt.to_period('M')).size()\n",
    "\n",
    "# Plot User Acquisition Over Time\n",
    "user_growth.plot(kind='line', marker='o', figsize=(8, 6), title='User Acquisition Over Time')\n",
    "plt.xlabel('Month')\n",
    "plt.ylabel('Number of New Users')\n",
    "plt.show()"
   ]
  },
  {
   "cell_type": "markdown",
   "id": "6f44c46a",
   "metadata": {},
   "source": [
    "# TRANSACATIONS DATA"
   ]
  },
  {
   "cell_type": "code",
   "execution_count": 17,
   "id": "998f4544",
   "metadata": {},
   "outputs": [
    {
     "data": {
      "text/html": [
       "<div>\n",
       "<style scoped>\n",
       "    .dataframe tbody tr th:only-of-type {\n",
       "        vertical-align: middle;\n",
       "    }\n",
       "\n",
       "    .dataframe tbody tr th {\n",
       "        vertical-align: top;\n",
       "    }\n",
       "\n",
       "    .dataframe thead th {\n",
       "        text-align: right;\n",
       "    }\n",
       "</style>\n",
       "<table border=\"1\" class=\"dataframe\">\n",
       "  <thead>\n",
       "    <tr style=\"text-align: right;\">\n",
       "      <th></th>\n",
       "      <th>RECEIPT_ID</th>\n",
       "      <th>PURCHASE_DATE</th>\n",
       "      <th>SCAN_DATE</th>\n",
       "      <th>STORE_NAME</th>\n",
       "      <th>USER_ID</th>\n",
       "      <th>BARCODE</th>\n",
       "      <th>FINAL_QUANTITY</th>\n",
       "      <th>FINAL_SALE</th>\n",
       "    </tr>\n",
       "  </thead>\n",
       "  <tbody>\n",
       "    <tr>\n",
       "      <th>0</th>\n",
       "      <td>0000d256-4041-4a3e-adc4-5623fb6e0c99</td>\n",
       "      <td>2024-08-21</td>\n",
       "      <td>2024-08-21 14:19:06.539 Z</td>\n",
       "      <td>WALMART</td>\n",
       "      <td>63b73a7f3d310dceeabd4758</td>\n",
       "      <td>1.530001e+10</td>\n",
       "      <td>1.00</td>\n",
       "      <td></td>\n",
       "    </tr>\n",
       "    <tr>\n",
       "      <th>1</th>\n",
       "      <td>0001455d-7a92-4a7b-a1d2-c747af1c8fd3</td>\n",
       "      <td>2024-07-20</td>\n",
       "      <td>2024-07-20 09:50:24.206 Z</td>\n",
       "      <td>ALDI</td>\n",
       "      <td>62c08877baa38d1a1f6c211a</td>\n",
       "      <td>NaN</td>\n",
       "      <td>zero</td>\n",
       "      <td>1.49</td>\n",
       "    </tr>\n",
       "    <tr>\n",
       "      <th>2</th>\n",
       "      <td>00017e0a-7851-42fb-bfab-0baa96e23586</td>\n",
       "      <td>2024-08-18</td>\n",
       "      <td>2024-08-19 15:38:56.813 Z</td>\n",
       "      <td>WALMART</td>\n",
       "      <td>60842f207ac8b7729e472020</td>\n",
       "      <td>7.874223e+10</td>\n",
       "      <td>1.00</td>\n",
       "      <td></td>\n",
       "    </tr>\n",
       "    <tr>\n",
       "      <th>3</th>\n",
       "      <td>000239aa-3478-453d-801e-66a82e39c8af</td>\n",
       "      <td>2024-06-18</td>\n",
       "      <td>2024-06-19 11:03:37.468 Z</td>\n",
       "      <td>FOOD LION</td>\n",
       "      <td>63fcd7cea4f8442c3386b589</td>\n",
       "      <td>7.833997e+11</td>\n",
       "      <td>zero</td>\n",
       "      <td>3.49</td>\n",
       "    </tr>\n",
       "    <tr>\n",
       "      <th>4</th>\n",
       "      <td>00026b4c-dfe8-49dd-b026-4c2f0fd5c6a1</td>\n",
       "      <td>2024-07-04</td>\n",
       "      <td>2024-07-05 15:56:43.549 Z</td>\n",
       "      <td>RANDALLS</td>\n",
       "      <td>6193231ae9b3d75037b0f928</td>\n",
       "      <td>4.790050e+10</td>\n",
       "      <td>1.00</td>\n",
       "      <td></td>\n",
       "    </tr>\n",
       "  </tbody>\n",
       "</table>\n",
       "</div>"
      ],
      "text/plain": [
       "                             RECEIPT_ID PURCHASE_DATE  \\\n",
       "0  0000d256-4041-4a3e-adc4-5623fb6e0c99    2024-08-21   \n",
       "1  0001455d-7a92-4a7b-a1d2-c747af1c8fd3    2024-07-20   \n",
       "2  00017e0a-7851-42fb-bfab-0baa96e23586    2024-08-18   \n",
       "3  000239aa-3478-453d-801e-66a82e39c8af    2024-06-18   \n",
       "4  00026b4c-dfe8-49dd-b026-4c2f0fd5c6a1    2024-07-04   \n",
       "\n",
       "                   SCAN_DATE STORE_NAME                   USER_ID  \\\n",
       "0  2024-08-21 14:19:06.539 Z    WALMART  63b73a7f3d310dceeabd4758   \n",
       "1  2024-07-20 09:50:24.206 Z       ALDI  62c08877baa38d1a1f6c211a   \n",
       "2  2024-08-19 15:38:56.813 Z    WALMART  60842f207ac8b7729e472020   \n",
       "3  2024-06-19 11:03:37.468 Z  FOOD LION  63fcd7cea4f8442c3386b589   \n",
       "4  2024-07-05 15:56:43.549 Z   RANDALLS  6193231ae9b3d75037b0f928   \n",
       "\n",
       "        BARCODE FINAL_QUANTITY FINAL_SALE  \n",
       "0  1.530001e+10           1.00             \n",
       "1           NaN           zero       1.49  \n",
       "2  7.874223e+10           1.00             \n",
       "3  7.833997e+11           zero       3.49  \n",
       "4  4.790050e+10           1.00             "
      ]
     },
     "execution_count": 17,
     "metadata": {},
     "output_type": "execute_result"
    }
   ],
   "source": [
    "transactions = pd.read_csv('/Users/saiprakashmadderla/fetch-data-analyst-assessment/data/transactions.csv')\n",
    "transactions.head()"
   ]
  },
  {
   "cell_type": "code",
   "execution_count": 18,
   "id": "ec54fccd",
   "metadata": {},
   "outputs": [
    {
     "name": "stdout",
     "output_type": "stream",
     "text": [
      "<class 'pandas.core.frame.DataFrame'>\n",
      "RangeIndex: 50000 entries, 0 to 49999\n",
      "Data columns (total 8 columns):\n",
      " #   Column          Non-Null Count  Dtype  \n",
      "---  ------          --------------  -----  \n",
      " 0   RECEIPT_ID      50000 non-null  object \n",
      " 1   PURCHASE_DATE   50000 non-null  object \n",
      " 2   SCAN_DATE       50000 non-null  object \n",
      " 3   STORE_NAME      50000 non-null  object \n",
      " 4   USER_ID         50000 non-null  object \n",
      " 5   BARCODE         44238 non-null  float64\n",
      " 6   FINAL_QUANTITY  50000 non-null  object \n",
      " 7   FINAL_SALE      50000 non-null  object \n",
      "dtypes: float64(1), object(7)\n",
      "memory usage: 3.1+ MB\n"
     ]
    }
   ],
   "source": [
    "transactions.info()"
   ]
  },
  {
   "cell_type": "code",
   "execution_count": 19,
   "id": "c0a2d5cd",
   "metadata": {},
   "outputs": [
    {
     "data": {
      "text/plain": [
       "RECEIPT_ID           0\n",
       "PURCHASE_DATE        0\n",
       "SCAN_DATE            0\n",
       "STORE_NAME           0\n",
       "USER_ID              0\n",
       "BARCODE           5762\n",
       "FINAL_QUANTITY       0\n",
       "FINAL_SALE           0\n",
       "dtype: int64"
      ]
     },
     "execution_count": 19,
     "metadata": {},
     "output_type": "execute_result"
    }
   ],
   "source": [
    "# Check for missing values\n",
    "missing_values = transactions.isnull().sum()\n",
    "missing_values"
   ]
  },
  {
   "cell_type": "code",
   "execution_count": 20,
   "id": "58543c39",
   "metadata": {},
   "outputs": [
    {
     "name": "stdout",
     "output_type": "stream",
     "text": [
      "Number of duplicate rows: 171\n"
     ]
    }
   ],
   "source": [
    "# Check for duplicates\n",
    "duplicates = transactions.duplicated().sum()\n",
    "print(f\"Number of duplicate rows: {duplicates}\")"
   ]
  },
  {
   "cell_type": "code",
   "execution_count": 21,
   "id": "0e2cabe4",
   "metadata": {},
   "outputs": [],
   "source": [
    "#Handle missing values (drop)\n",
    "# For simplicity, we can drop rows where 'BARCODE' is missing\n",
    "transactions = transactions.dropna(subset=['BARCODE'])"
   ]
  },
  {
   "cell_type": "code",
   "execution_count": 22,
   "id": "9652e0e9",
   "metadata": {},
   "outputs": [],
   "source": [
    "transactions['PURCHASE_DATE'] = pd.to_datetime(transactions['PURCHASE_DATE'], errors='coerce')\n",
    "transactions['SCAN_DATE'] = pd.to_datetime(transactions['SCAN_DATE'], errors='coerce')"
   ]
  },
  {
   "cell_type": "code",
   "execution_count": 23,
   "id": "aa3bd346",
   "metadata": {},
   "outputs": [],
   "source": [
    "missing_barcodes_by_store = transactions[transactions['BARCODE'].isnull()]['STORE_NAME'].value_counts()\n",
    "missing_barcodes_by_user = transactions[transactions['BARCODE'].isnull()]['USER_ID'].value_counts().head()"
   ]
  },
  {
   "cell_type": "code",
   "execution_count": 24,
   "id": "afcf71a5",
   "metadata": {},
   "outputs": [
    {
     "data": {
      "text/html": [
       "<div>\n",
       "<style scoped>\n",
       "    .dataframe tbody tr th:only-of-type {\n",
       "        vertical-align: middle;\n",
       "    }\n",
       "\n",
       "    .dataframe tbody tr th {\n",
       "        vertical-align: top;\n",
       "    }\n",
       "\n",
       "    .dataframe thead th {\n",
       "        text-align: right;\n",
       "    }\n",
       "</style>\n",
       "<table border=\"1\" class=\"dataframe\">\n",
       "  <thead>\n",
       "    <tr style=\"text-align: right;\">\n",
       "      <th></th>\n",
       "      <th>RECEIPT_ID</th>\n",
       "      <th>PURCHASE_DATE</th>\n",
       "      <th>SCAN_DATE</th>\n",
       "      <th>STORE_NAME</th>\n",
       "      <th>USER_ID</th>\n",
       "      <th>BARCODE</th>\n",
       "      <th>FINAL_QUANTITY</th>\n",
       "      <th>FINAL_SALE</th>\n",
       "    </tr>\n",
       "  </thead>\n",
       "  <tbody>\n",
       "    <tr>\n",
       "      <th>0</th>\n",
       "      <td>0000d256-4041-4a3e-adc4-5623fb6e0c99</td>\n",
       "      <td>2024-08-21</td>\n",
       "      <td>2024-08-21 14:19:06.539000+00:00</td>\n",
       "      <td>WALMART</td>\n",
       "      <td>63b73a7f3d310dceeabd4758</td>\n",
       "      <td>1.530001e+10</td>\n",
       "      <td>1.00</td>\n",
       "      <td></td>\n",
       "    </tr>\n",
       "    <tr>\n",
       "      <th>2</th>\n",
       "      <td>00017e0a-7851-42fb-bfab-0baa96e23586</td>\n",
       "      <td>2024-08-18</td>\n",
       "      <td>2024-08-19 15:38:56.813000+00:00</td>\n",
       "      <td>WALMART</td>\n",
       "      <td>60842f207ac8b7729e472020</td>\n",
       "      <td>7.874223e+10</td>\n",
       "      <td>1.00</td>\n",
       "      <td></td>\n",
       "    </tr>\n",
       "    <tr>\n",
       "      <th>3</th>\n",
       "      <td>000239aa-3478-453d-801e-66a82e39c8af</td>\n",
       "      <td>2024-06-18</td>\n",
       "      <td>2024-06-19 11:03:37.468000+00:00</td>\n",
       "      <td>FOOD LION</td>\n",
       "      <td>63fcd7cea4f8442c3386b589</td>\n",
       "      <td>7.833997e+11</td>\n",
       "      <td>zero</td>\n",
       "      <td>3.49</td>\n",
       "    </tr>\n",
       "    <tr>\n",
       "      <th>4</th>\n",
       "      <td>00026b4c-dfe8-49dd-b026-4c2f0fd5c6a1</td>\n",
       "      <td>2024-07-04</td>\n",
       "      <td>2024-07-05 15:56:43.549000+00:00</td>\n",
       "      <td>RANDALLS</td>\n",
       "      <td>6193231ae9b3d75037b0f928</td>\n",
       "      <td>4.790050e+10</td>\n",
       "      <td>1.00</td>\n",
       "      <td></td>\n",
       "    </tr>\n",
       "    <tr>\n",
       "      <th>5</th>\n",
       "      <td>0002d8cd-1701-4cdd-a524-b70402e2dbc0</td>\n",
       "      <td>2024-06-24</td>\n",
       "      <td>2024-06-24 19:44:54.247000+00:00</td>\n",
       "      <td>WALMART</td>\n",
       "      <td>5dcc6c510040a012b8e76924</td>\n",
       "      <td>6.811314e+11</td>\n",
       "      <td>zero</td>\n",
       "      <td>1.46</td>\n",
       "    </tr>\n",
       "    <tr>\n",
       "      <th>...</th>\n",
       "      <td>...</td>\n",
       "      <td>...</td>\n",
       "      <td>...</td>\n",
       "      <td>...</td>\n",
       "      <td>...</td>\n",
       "      <td>...</td>\n",
       "      <td>...</td>\n",
       "      <td>...</td>\n",
       "    </tr>\n",
       "    <tr>\n",
       "      <th>49995</th>\n",
       "      <td>b5cd61a9-8033-4913-a5c4-fb3f65e3a321</td>\n",
       "      <td>2024-08-21</td>\n",
       "      <td>2024-08-31 14:13:08.634000+00:00</td>\n",
       "      <td>TARGET</td>\n",
       "      <td>6154bcf098f885648de2f299</td>\n",
       "      <td>8.523911e+10</td>\n",
       "      <td>2.00</td>\n",
       "      <td>1.18</td>\n",
       "    </tr>\n",
       "    <tr>\n",
       "      <th>49996</th>\n",
       "      <td>e1b2f634-c9ad-4152-b662-4b22efc25862</td>\n",
       "      <td>2024-08-11</td>\n",
       "      <td>2024-08-11 18:15:56.736000+00:00</td>\n",
       "      <td>STOP &amp; SHOP</td>\n",
       "      <td>60aa809f188b926b2244c974</td>\n",
       "      <td>4.610040e+10</td>\n",
       "      <td>1.00</td>\n",
       "      <td>2.00</td>\n",
       "    </tr>\n",
       "    <tr>\n",
       "      <th>49997</th>\n",
       "      <td>b07ef8dd-e444-40a2-819b-f74a3e5f1ae7</td>\n",
       "      <td>2024-07-11</td>\n",
       "      <td>2024-07-11 08:03:25.816000+00:00</td>\n",
       "      <td>WALMART</td>\n",
       "      <td>60bd26e83dc3b13a15c5f4e7</td>\n",
       "      <td>6.466300e+11</td>\n",
       "      <td>1.00</td>\n",
       "      <td>20.96</td>\n",
       "    </tr>\n",
       "    <tr>\n",
       "      <th>49998</th>\n",
       "      <td>42475141-bef4-4df2-aa37-72577e2512bb</td>\n",
       "      <td>2024-06-18</td>\n",
       "      <td>2024-06-18 19:57:32.211000+00:00</td>\n",
       "      <td>MARKET BASKET</td>\n",
       "      <td>6169912fac47744405af62b7</td>\n",
       "      <td>4.180050e+10</td>\n",
       "      <td>1.00</td>\n",
       "      <td>3.00</td>\n",
       "    </tr>\n",
       "    <tr>\n",
       "      <th>49999</th>\n",
       "      <td>3a179c4e-46f2-4126-b3d2-3514afc23a3e</td>\n",
       "      <td>2024-08-07</td>\n",
       "      <td>2024-08-07 15:30:07.911000+00:00</td>\n",
       "      <td>WALMART</td>\n",
       "      <td>64e94d64ca929250373ef6e1</td>\n",
       "      <td>3.076607e+11</td>\n",
       "      <td>1.00</td>\n",
       "      <td>5.48</td>\n",
       "    </tr>\n",
       "  </tbody>\n",
       "</table>\n",
       "<p>44094 rows × 8 columns</p>\n",
       "</div>"
      ],
      "text/plain": [
       "                                 RECEIPT_ID PURCHASE_DATE  \\\n",
       "0      0000d256-4041-4a3e-adc4-5623fb6e0c99    2024-08-21   \n",
       "2      00017e0a-7851-42fb-bfab-0baa96e23586    2024-08-18   \n",
       "3      000239aa-3478-453d-801e-66a82e39c8af    2024-06-18   \n",
       "4      00026b4c-dfe8-49dd-b026-4c2f0fd5c6a1    2024-07-04   \n",
       "5      0002d8cd-1701-4cdd-a524-b70402e2dbc0    2024-06-24   \n",
       "...                                     ...           ...   \n",
       "49995  b5cd61a9-8033-4913-a5c4-fb3f65e3a321    2024-08-21   \n",
       "49996  e1b2f634-c9ad-4152-b662-4b22efc25862    2024-08-11   \n",
       "49997  b07ef8dd-e444-40a2-819b-f74a3e5f1ae7    2024-07-11   \n",
       "49998  42475141-bef4-4df2-aa37-72577e2512bb    2024-06-18   \n",
       "49999  3a179c4e-46f2-4126-b3d2-3514afc23a3e    2024-08-07   \n",
       "\n",
       "                             SCAN_DATE     STORE_NAME  \\\n",
       "0     2024-08-21 14:19:06.539000+00:00        WALMART   \n",
       "2     2024-08-19 15:38:56.813000+00:00        WALMART   \n",
       "3     2024-06-19 11:03:37.468000+00:00      FOOD LION   \n",
       "4     2024-07-05 15:56:43.549000+00:00       RANDALLS   \n",
       "5     2024-06-24 19:44:54.247000+00:00        WALMART   \n",
       "...                                ...            ...   \n",
       "49995 2024-08-31 14:13:08.634000+00:00         TARGET   \n",
       "49996 2024-08-11 18:15:56.736000+00:00    STOP & SHOP   \n",
       "49997 2024-07-11 08:03:25.816000+00:00        WALMART   \n",
       "49998 2024-06-18 19:57:32.211000+00:00  MARKET BASKET   \n",
       "49999 2024-08-07 15:30:07.911000+00:00        WALMART   \n",
       "\n",
       "                        USER_ID       BARCODE FINAL_QUANTITY FINAL_SALE  \n",
       "0      63b73a7f3d310dceeabd4758  1.530001e+10           1.00             \n",
       "2      60842f207ac8b7729e472020  7.874223e+10           1.00             \n",
       "3      63fcd7cea4f8442c3386b589  7.833997e+11           zero       3.49  \n",
       "4      6193231ae9b3d75037b0f928  4.790050e+10           1.00             \n",
       "5      5dcc6c510040a012b8e76924  6.811314e+11           zero       1.46  \n",
       "...                         ...           ...            ...        ...  \n",
       "49995  6154bcf098f885648de2f299  8.523911e+10           2.00       1.18  \n",
       "49996  60aa809f188b926b2244c974  4.610040e+10           1.00       2.00  \n",
       "49997  60bd26e83dc3b13a15c5f4e7  6.466300e+11           1.00      20.96  \n",
       "49998  6169912fac47744405af62b7  4.180050e+10           1.00       3.00  \n",
       "49999  64e94d64ca929250373ef6e1  3.076607e+11           1.00       5.48  \n",
       "\n",
       "[44094 rows x 8 columns]"
      ]
     },
     "execution_count": 24,
     "metadata": {},
     "output_type": "execute_result"
    }
   ],
   "source": [
    "#Dropping the excat duplicates\n",
    "transactions = transactions.drop_duplicates()\n",
    "transactions"
   ]
  },
  {
   "cell_type": "code",
   "execution_count": 25,
   "id": "5c047100",
   "metadata": {},
   "outputs": [],
   "source": [
    "#Remove invalid transactions (FINAL_QUANTITY = 0 & FINAL_SALE = 0)\n",
    "#Replace 'zero' with 0 and convert to float\n",
    "transactions['FINAL_QUANTITY'] = pd.to_numeric(transactions['FINAL_QUANTITY'].replace('zero', 0), errors='coerce')\n",
    "transactions['FINAL_SALE'] = pd.to_numeric(transactions['FINAL_SALE'].replace('zero', 0), errors='coerce')\n",
    "transactions = transactions[(transactions['FINAL_QUANTITY'] > 0) & (transactions['FINAL_SALE'] > 0)]\n"
   ]
  },
  {
   "cell_type": "code",
   "execution_count": 26,
   "id": "e001810c",
   "metadata": {},
   "outputs": [
    {
     "name": "stdout",
     "output_type": "stream",
     "text": [
      "Duplicates in RECEIPT_ID: 694\n"
     ]
    }
   ],
   "source": [
    "#Check for duplicates based on RECEIPT_ID\n",
    "duplicates_receipt = transactions[transactions.duplicated(subset=['RECEIPT_ID'], keep=False)]\n",
    "print(f\"Duplicates in RECEIPT_ID: {duplicates_receipt.shape[0]}\")\n"
   ]
  },
  {
   "cell_type": "code",
   "execution_count": 27,
   "id": "2bf72a9f",
   "metadata": {},
   "outputs": [
    {
     "name": "stdout",
     "output_type": "stream",
     "text": [
      "Total rows with repeated items within the same receipt: 30\n"
     ]
    }
   ],
   "source": [
    "#Check for repeated items within the same RECEIPT_ID (same BARCODE)\n",
    "duplicate_items_within_receipt = duplicates_receipt[duplicates_receipt.duplicated(subset=['RECEIPT_ID', 'BARCODE'], keep=False)]\n",
    "print(f\"Total rows with repeated items within the same receipt: {duplicate_items_within_receipt.shape[0]}\")"
   ]
  },
  {
   "cell_type": "code",
   "execution_count": 28,
   "id": "0f815108",
   "metadata": {},
   "outputs": [
    {
     "name": "stdout",
     "output_type": "stream",
     "text": [
      "Total receipts with variations in dates or users: 0\n"
     ]
    }
   ],
   "source": [
    "#Check for inconsistencies (same RECEIPT_ID with different dates or users)\n",
    "receipt_variations = duplicates_receipt.groupby('RECEIPT_ID').agg({\n",
    "    'SCAN_DATE': pd.Series.nunique,\n",
    "    'PURCHASE_DATE': pd.Series.nunique,\n",
    "    'USER_ID': pd.Series.nunique\n",
    "}).reset_index()\n",
    "\n",
    "multiple_variations = receipt_variations[(receipt_variations['SCAN_DATE'] > 1) |\n",
    "                                         (receipt_variations['PURCHASE_DATE'] > 1) |\n",
    "                                         (receipt_variations['USER_ID'] > 1)]\n",
    "\n",
    "print(f\"Total receipts with variations in dates or users: {multiple_variations.shape[0]}\")\n"
   ]
  },
  {
   "cell_type": "code",
   "execution_count": 29,
   "id": "1ceb249f",
   "metadata": {},
   "outputs": [
    {
     "data": {
      "image/png": "[encoded data removed]",
      "text/plain": [
       "<Figure size 576x360 with 1 Axes>"
      ]
     },
     "metadata": {
      "needs_background": "light"
     },
     "output_type": "display_data"
    }
   ],
   "source": [
    "store_sales = transactions.groupby('STORE_NAME')['FINAL_SALE'].sum().sort_values(ascending=False)\n",
    "store_sales.head(10).plot(kind='barh', figsize=(8, 5), title='Top Stores by Total Sales')\n",
    "plt.xlabel('Total Sales ($)')\n",
    "plt.ylabel('Store Name')\n",
    "plt.show()"
   ]
  },
  {
   "cell_type": "code",
   "execution_count": 30,
   "id": "d04e9980",
   "metadata": {},
   "outputs": [
    {
     "data": {
      "image/png": "[encoded data removed]",
      "text/plain": [
       "<Figure size 720x432 with 1 Axes>"
      ]
     },
     "metadata": {
      "needs_background": "light"
     },
     "output_type": "display_data"
    },
    {
     "data": {
      "image/png": "[encoded data removed]",
      "text/plain": [
       "<Figure size 720x432 with 1 Axes>"
      ]
     },
     "metadata": {
      "needs_background": "light"
     },
     "output_type": "display_data"
    },
    {
     "data": {
      "image/png": "[encoded data removed]",
      "text/plain": [
       "<Figure size 432x288 with 1 Axes>"
      ]
     },
     "metadata": {
      "needs_background": "light"
     },
     "output_type": "display_data"
    },
    {
     "data": {
      "image/png": "[encoded data removed]",
      "text/plain": [
       "<Figure size 720x360 with 1 Axes>"
      ]
     },
     "metadata": {
      "needs_background": "light"
     },
     "output_type": "display_data"
    }
   ],
   "source": [
    "# Histogram of final sale amounts\n",
    "transactions['FINAL_SALE'].hist(bins=50, figsize=(10, 6))\n",
    "plt.title('Distribution of FINAL_SALE')\n",
    "plt.xlabel('Sale Amount ($)')\n",
    "plt.ylabel('Frequency')\n",
    "plt.show()\n",
    "\n",
    "# Histogram of quantities\n",
    "transactions['FINAL_QUANTITY'].hist(bins=50, figsize=(10, 6))\n",
    "plt.title('Distribution of FINAL_QUANTITY')\n",
    "plt.xlabel('Quantity')\n",
    "plt.ylabel('Frequency')\n",
    "plt.show()\n",
    "\n",
    "# Scatter plot for sale vs. quantity to identify any outliers\n",
    "plt.scatter(transactions['FINAL_QUANTITY'], transactions['FINAL_SALE'], alpha=0.5)\n",
    "plt.title('Sales vs Quantity')\n",
    "plt.xlabel('Quantity')\n",
    "plt.ylabel('Sale Amount ($)')\n",
    "plt.show()\n",
    "\n",
    "# Transcation volume over time \n",
    "transaction_trend = transactions.groupby(transactions['PURCHASE_DATE'].dt.to_period('M')).size()\n",
    "transaction_trend.plot(kind='line', marker='o', figsize=(10, 5), title='Monthly Transaction Volume')\n",
    "plt.xlabel('Month')\n",
    "plt.ylabel('Number of Transactions')\n",
    "plt.show()"
   ]
  },
  {
   "cell_type": "markdown",
   "id": "b39b38c9",
   "metadata": {},
   "source": [
    "# Product Data"
   ]
  },
  {
   "cell_type": "code",
   "execution_count": 31,
   "id": "38b66b56",
   "metadata": {},
   "outputs": [
    {
     "data": {
      "text/html": [
       "<div>\n",
       "<style scoped>\n",
       "    .dataframe tbody tr th:only-of-type {\n",
       "        vertical-align: middle;\n",
       "    }\n",
       "\n",
       "    .dataframe tbody tr th {\n",
       "        vertical-align: top;\n",
       "    }\n",
       "\n",
       "    .dataframe thead th {\n",
       "        text-align: right;\n",
       "    }\n",
       "</style>\n",
       "<table border=\"1\" class=\"dataframe\">\n",
       "  <thead>\n",
       "    <tr style=\"text-align: right;\">\n",
       "      <th></th>\n",
       "      <th>CATEGORY_1</th>\n",
       "      <th>CATEGORY_2</th>\n",
       "      <th>CATEGORY_3</th>\n",
       "      <th>CATEGORY_4</th>\n",
       "      <th>MANUFACTURER</th>\n",
       "      <th>BRAND</th>\n",
       "      <th>BARCODE</th>\n",
       "    </tr>\n",
       "  </thead>\n",
       "  <tbody>\n",
       "    <tr>\n",
       "      <th>0</th>\n",
       "      <td>Health &amp; Wellness</td>\n",
       "      <td>Sexual Health</td>\n",
       "      <td>Conductivity Gels &amp; Lotions</td>\n",
       "      <td>NaN</td>\n",
       "      <td>NaN</td>\n",
       "      <td>NaN</td>\n",
       "      <td>7.964944e+11</td>\n",
       "    </tr>\n",
       "    <tr>\n",
       "      <th>1</th>\n",
       "      <td>Snacks</td>\n",
       "      <td>Puffed Snacks</td>\n",
       "      <td>Cheese Curls &amp; Puffs</td>\n",
       "      <td>NaN</td>\n",
       "      <td>NaN</td>\n",
       "      <td>NaN</td>\n",
       "      <td>2.327801e+10</td>\n",
       "    </tr>\n",
       "    <tr>\n",
       "      <th>2</th>\n",
       "      <td>Health &amp; Wellness</td>\n",
       "      <td>Hair Care</td>\n",
       "      <td>Hair Care Accessories</td>\n",
       "      <td>NaN</td>\n",
       "      <td>PLACEHOLDER MANUFACTURER</td>\n",
       "      <td>ELECSOP</td>\n",
       "      <td>4.618178e+11</td>\n",
       "    </tr>\n",
       "    <tr>\n",
       "      <th>3</th>\n",
       "      <td>Health &amp; Wellness</td>\n",
       "      <td>Oral Care</td>\n",
       "      <td>Toothpaste</td>\n",
       "      <td>NaN</td>\n",
       "      <td>COLGATE-PALMOLIVE</td>\n",
       "      <td>COLGATE</td>\n",
       "      <td>3.500047e+10</td>\n",
       "    </tr>\n",
       "    <tr>\n",
       "      <th>4</th>\n",
       "      <td>Health &amp; Wellness</td>\n",
       "      <td>Medicines &amp; Treatments</td>\n",
       "      <td>Essential Oils</td>\n",
       "      <td>NaN</td>\n",
       "      <td>MAPLE HOLISTICS AND HONEYDEW PRODUCTS INTERCHA...</td>\n",
       "      <td>MAPLE HOLISTICS</td>\n",
       "      <td>8.068109e+11</td>\n",
       "    </tr>\n",
       "  </tbody>\n",
       "</table>\n",
       "</div>"
      ],
      "text/plain": [
       "          CATEGORY_1              CATEGORY_2                   CATEGORY_3  \\\n",
       "0  Health & Wellness           Sexual Health  Conductivity Gels & Lotions   \n",
       "1             Snacks           Puffed Snacks         Cheese Curls & Puffs   \n",
       "2  Health & Wellness               Hair Care        Hair Care Accessories   \n",
       "3  Health & Wellness               Oral Care                   Toothpaste   \n",
       "4  Health & Wellness  Medicines & Treatments               Essential Oils   \n",
       "\n",
       "  CATEGORY_4                                       MANUFACTURER  \\\n",
       "0        NaN                                                NaN   \n",
       "1        NaN                                                NaN   \n",
       "2        NaN                           PLACEHOLDER MANUFACTURER   \n",
       "3        NaN                                  COLGATE-PALMOLIVE   \n",
       "4        NaN  MAPLE HOLISTICS AND HONEYDEW PRODUCTS INTERCHA...   \n",
       "\n",
       "             BRAND       BARCODE  \n",
       "0              NaN  7.964944e+11  \n",
       "1              NaN  2.327801e+10  \n",
       "2          ELECSOP  4.618178e+11  \n",
       "3          COLGATE  3.500047e+10  \n",
       "4  MAPLE HOLISTICS  8.068109e+11  "
      ]
     },
     "execution_count": 31,
     "metadata": {},
     "output_type": "execute_result"
    }
   ],
   "source": [
    "products = pd.read_csv('/Users/saiprakashmadderla/fetch-data-analyst-assessment/data/products.csv')\n",
    "products.head()"
   ]
  },
  {
   "cell_type": "code",
   "execution_count": 32,
   "id": "88843bf5",
   "metadata": {},
   "outputs": [
    {
     "name": "stdout",
     "output_type": "stream",
     "text": [
      "<class 'pandas.core.frame.DataFrame'>\n",
      "RangeIndex: 845552 entries, 0 to 845551\n",
      "Data columns (total 7 columns):\n",
      " #   Column        Non-Null Count   Dtype  \n",
      "---  ------        --------------   -----  \n",
      " 0   CATEGORY_1    845441 non-null  object \n",
      " 1   CATEGORY_2    844128 non-null  object \n",
      " 2   CATEGORY_3    784986 non-null  object \n",
      " 3   CATEGORY_4    67459 non-null   object \n",
      " 4   MANUFACTURER  619078 non-null  object \n",
      " 5   BRAND         619080 non-null  object \n",
      " 6   BARCODE       841527 non-null  float64\n",
      "dtypes: float64(1), object(6)\n",
      "memory usage: 45.2+ MB\n"
     ]
    }
   ],
   "source": [
    "products.info()"
   ]
  },
  {
   "cell_type": "code",
   "execution_count": 33,
   "id": "2e826474",
   "metadata": {},
   "outputs": [
    {
     "name": "stdout",
     "output_type": "stream",
     "text": [
      "\n",
      "Missing Values:\n",
      " CATEGORY_1         111\n",
      "CATEGORY_2        1424\n",
      "CATEGORY_3       60566\n",
      "CATEGORY_4      778093\n",
      "MANUFACTURER    226474\n",
      "BRAND           226472\n",
      "BARCODE           4025\n",
      "dtype: int64\n"
     ]
    }
   ],
   "source": [
    "# Check missing values\n",
    "missing_vals = products.isnull().sum()\n",
    "print(\"\\nMissing Values:\\n\", missing_vals)"
   ]
  },
  {
   "cell_type": "code",
   "execution_count": 34,
   "id": "c73909c7",
   "metadata": {},
   "outputs": [
    {
     "data": {
      "image/png": "[encoded data removed]",
      "text/plain": [
       "<Figure size 720x360 with 1 Axes>"
      ]
     },
     "metadata": {
      "needs_background": "light"
     },
     "output_type": "display_data"
    }
   ],
   "source": [
    "#Visualize missing data\n",
    "missing_vals[missing_vals > 0].sort_values(ascending=False).plot(kind='bar', figsize=(10, 5), title=\"Missing Values per Column\")\n",
    "plt.ylabel(\"Count\")\n",
    "plt.show()"
   ]
  },
  {
   "cell_type": "markdown",
   "id": "0882aef4",
   "metadata": {},
   "source": [
    "#### Product Data – Missing Values Summary\n",
    "\n",
    "The dataset shows several missing fields that could impact product-level analysis:\n",
    "\n",
    "1. CATEGORY_4: Missing in ~778K records, suggesting this field may be optional or inconsistently used.\n",
    "\n",
    "2. CATEGORY_3 and CATEGORY_2: Also have significant gaps, which may limit multi-level category analysis.\n",
    "\n",
    "3. MANUFACTURER and BRAND: Missing in ~226K records each, making brand-level and manufacturer insights less reliable.\n",
    "\n",
    "4. BARCODE: 4,025 missing values may affect product matching or transaction linking.\n",
    "\n",
    "These gaps suggest potential data entry issues or incomplete integration across product sources. Further cleaning or clarification from data owners may be needed for accurate downstream analysis."
   ]
  },
  {
   "cell_type": "code",
   "execution_count": 35,
   "id": "3508cd72",
   "metadata": {},
   "outputs": [
    {
     "name": "stdout",
     "output_type": "stream",
     "text": [
      "\n",
      "Exact duplicate rows: 215\n"
     ]
    }
   ],
   "source": [
    "#Check for duplicates\n",
    "duplicate_rows = products.duplicated().sum()\n",
    "print(f\"\\nExact duplicate rows: {duplicate_rows}\")"
   ]
  },
  {
   "cell_type": "code",
   "execution_count": 36,
   "id": "13697c3e",
   "metadata": {},
   "outputs": [],
   "source": [
    "#Remove duplicates\n",
    "products.drop_duplicates(inplace=True)"
   ]
  },
  {
   "cell_type": "code",
   "execution_count": 37,
   "id": "f6b23108",
   "metadata": {},
   "outputs": [
    {
     "name": "stdout",
     "output_type": "stream",
     "text": [
      "Shape after dropping null BARCODEs: (841369, 7)\n"
     ]
    }
   ],
   "source": [
    "#Drop rows with missing BARCODE (critical for joins)\n",
    "products = products[products['BARCODE'].notnull()]\n",
    "print(\"Shape after dropping null BARCODEs:\", products.shape)"
   ]
  },
  {
   "cell_type": "code",
   "execution_count": 38,
   "id": "5c4f6006",
   "metadata": {},
   "outputs": [],
   "source": [
    "#Clean and standardize text fields\n",
    "text_columns = ['CATEGORY_1', 'CATEGORY_2', 'CATEGORY_3', 'CATEGORY_4', 'MANUFACTURER', 'BRAND']\n",
    "for col in text_columns:\n",
    "    products[col] = products[col].astype(str).str.strip().str.title()\n"
   ]
  },
  {
   "cell_type": "code",
   "execution_count": 39,
   "id": "e4e1132e",
   "metadata": {},
   "outputs": [],
   "source": [
    "#Replace 'Nan' strings with proper NaN\n",
    "products.replace('Nan', pd.NA, inplace=True)"
   ]
  },
  {
   "cell_type": "code",
   "execution_count": 40,
   "id": "e96f127c",
   "metadata": {},
   "outputs": [
    {
     "name": "stdout",
     "output_type": "stream",
     "text": [
      "\n",
      "Missing values after cleaning:\n",
      " CATEGORY_1         111\n",
      "CATEGORY_2         661\n",
      "CATEGORY_3       58714\n",
      "CATEGORY_4      774135\n",
      "MANUFACTURER    226217\n",
      "BRAND           226215\n",
      "BARCODE              0\n",
      "dtype: int64\n"
     ]
    }
   ],
   "source": [
    "#Final null check after cleaning\n",
    "print(\"\\nMissing values after cleaning:\\n\", products.isnull().sum())"
   ]
  },
  {
   "cell_type": "code",
   "execution_count": 41,
   "id": "125a2804",
   "metadata": {},
   "outputs": [
    {
     "name": "stdout",
     "output_type": "stream",
     "text": [
      "\n",
      "Top values for CATEGORY_1:\n",
      "Health & Wellness        510388\n",
      "Snacks                   323039\n",
      "Beverages                  3977\n",
      "Pantry                      867\n",
      "Apparel & Accessories       840\n",
      "Name: CATEGORY_1, dtype: int64\n",
      "\n",
      "Top values for CATEGORY_2:\n",
      "Candy                     120635\n",
      "Hair Care                 111169\n",
      "Medicines & Treatments     98734\n",
      "Bath & Body                81131\n",
      "Skin Care                  62185\n",
      "Name: CATEGORY_2, dtype: int64\n",
      "\n",
      "Top values for CATEGORY_3:\n",
      "Confection Candy                 56914\n",
      "Vitamins & Herbal Supplements    55632\n",
      "Chocolate Candy                  47561\n",
      "Hair Styling Products            20406\n",
      "Reading Glasses                  20392\n",
      "Name: CATEGORY_3, dtype: int64\n",
      "\n",
      "Top values for CATEGORY_4:\n",
      "Lip Balms                      9712\n",
      "Already Popped Popcorn         6956\n",
      "Sleep Aids                     4968\n",
      "Hair Brushes & Combs           4720\n",
      "Women'S Shaving Gel & Cream    3871\n",
      "Name: CATEGORY_4, dtype: int64\n",
      "\n",
      "Top values for BRAND:\n",
      "Rem Brand          20813\n",
      "Brand Not Known    17023\n",
      "Private Label      13467\n",
      "Cvs                 6400\n",
      "Sego                4831\n",
      "Name: BRAND, dtype: int64\n",
      "\n",
      "Top values for MANUFACTURER:\n",
      "Placeholder Manufacturer    86900\n",
      "Rem Manufacturer            20813\n",
      "Procter & Gamble            20797\n",
      "L'Oreal                     16673\n",
      "Unilever                    16655\n",
      "Name: MANUFACTURER, dtype: int64\n"
     ]
    }
   ],
   "source": [
    "#Summary statistics for categorical columns\n",
    "for col in ['CATEGORY_1', 'CATEGORY_2','CATEGORY_3','CATEGORY_4', 'BRAND', 'MANUFACTURER']:\n",
    "    print(f\"\\nTop values for {col}:\")\n",
    "    print(products[col].value_counts(dropna=True).head(5))"
   ]
  },
  {
   "cell_type": "code",
   "execution_count": 42,
   "id": "ef704fc5",
   "metadata": {
    "scrolled": true
   },
   "outputs": [
    {
     "data": {
      "image/png": "[encoded data removed]",
      "text/plain": [
       "<Figure size 576x360 with 1 Axes>"
      ]
     },
     "metadata": {
      "needs_background": "light"
     },
     "output_type": "display_data"
    }
   ],
   "source": [
    "# Lets view some charts - Top 10 Brands\n",
    "top_brands = products['BRAND'].value_counts().head(10)\n",
    "top_brands.plot(kind='bar', figsize=(8, 5), title=\"Top 10 Brands in Product Catalog\")\n",
    "plt.ylabel(\"Number of Products\")\n",
    "plt.show()"
   ]
  },
  {
   "cell_type": "code",
   "execution_count": 43,
   "id": "9652e0c2",
   "metadata": {},
   "outputs": [
    {
     "data": {
      "image/png": "[encoded data removed]",
      "text/plain": [
       "<Figure size 576x360 with 1 Axes>"
      ]
     },
     "metadata": {
      "needs_background": "light"
     },
     "output_type": "display_data"
    }
   ],
   "source": [
    "# Top 10 Category_1\n",
    "top_cat1 = products['CATEGORY_1'].value_counts().head(10)\n",
    "top_cat1.plot(kind='bar', figsize=(8, 5), title=\"Top 10 Categories (Level 1)\")\n",
    "plt.ylabel(\"Number of Products\")\n",
    "plt.show()"
   ]
  },
  {
   "cell_type": "markdown",
   "id": "7a87bcc4",
   "metadata": {},
   "source": [
    "# Second : Provide SQL Queries"
   ]
  },
  {
   "cell_type": "markdown",
   "id": "5de69312",
   "metadata": {},
   "source": [
    "Closed-Ended Questions "
   ]
  },
  {
   "cell_type": "markdown",
   "id": "744570ac",
   "metadata": {},
   "source": [
    "1.What are the top 5 brands by receipts scanned among users 21 and over?"
   ]
  },
  {
   "cell_type": "code",
   "execution_count": 44,
   "id": "f1122629",
   "metadata": {},
   "outputs": [],
   "source": [
    "import sqlite3\n",
    "from tabulate import tabulate"
   ]
  },
  {
   "cell_type": "code",
   "execution_count": 45,
   "id": "013f2d84",
   "metadata": {},
   "outputs": [
    {
     "data": {
      "text/plain": [
       "841369"
      ]
     },
     "execution_count": 45,
     "metadata": {},
     "output_type": "execute_result"
    }
   ],
   "source": [
    "# Create an in-memory SQLite database\n",
    "conn = sqlite3.connect(\":memory:\")\n",
    "\n",
    "# Save each DataFrame to the SQLite DB as tables\n",
    "users.to_sql(\"users\", conn, index=False, if_exists=\"replace\")\n",
    "transactions.to_sql(\"transactions\", conn, index=False, if_exists=\"replace\")\n",
    "products.to_sql(\"products\", conn, index=False, if_exists=\"replace\")\n"
   ]
  },
  {
   "cell_type": "code",
   "execution_count": 46,
   "id": "77a7a0cd",
   "metadata": {},
   "outputs": [
    {
     "name": "stdout",
     "output_type": "stream",
     "text": [
      "Top 5 Brands by Receipts Scanned (Age 21+):\n",
      "+----+-----------------+-----------------+\n",
      "|    | BRAND           |   Receipt_Count |\n",
      "|----+-----------------+-----------------|\n",
      "|  0 | Nerds Candy     |               3 |\n",
      "|  1 | Dove            |               3 |\n",
      "|  2 | Trident         |               2 |\n",
      "|  3 | Sour Patch Kids |               2 |\n",
      "|  4 | Meijer          |               2 |\n",
      "+----+-----------------+-----------------+\n"
     ]
    }
   ],
   "source": [
    "query1 = '''\n",
    "SELECT p.BRAND, COUNT(DISTINCT t.RECEIPT_ID) AS Receipt_Count\n",
    "FROM transactions t\n",
    "JOIN users u ON t.USER_ID = u.ID\n",
    "JOIN products p ON t.BARCODE = p.BARCODE\n",
    "WHERE u.age >= 21 AND p.BRAND IS NOT NULL AND TRIM(p.BRAND) != ''\n",
    "GROUP BY p.BRAND\n",
    "ORDER BY Receipt_Count DESC\n",
    "LIMIT 5;\n",
    "'''\n",
    "result1 = pd.read_sql_query(query1, conn)\n",
    "print(\"Top 5 Brands by Receipts Scanned (Age 21+):\")\n",
    "print(tabulate(result1, headers='keys', tablefmt='psql'))"
   ]
  },
  {
   "cell_type": "markdown",
   "id": "59231e56",
   "metadata": {},
   "source": [
    "2.What are the top 5 brands by sales among users that have had their account for at least six months?"
   ]
  },
  {
   "cell_type": "code",
   "execution_count": 47,
   "id": "00c26c99",
   "metadata": {},
   "outputs": [
    {
     "name": "stdout",
     "output_type": "stream",
     "text": [
      "Top 5 Brands by Sales Among Users with Accounts for at Least Six Months:\n",
      "+---+-------------+-------------+\n",
      "|   |    BRAND    | Total_Sales |\n",
      "+---+-------------+-------------+\n",
      "| 0 |     Cvs     |    72.0     |\n",
      "| 1 |    Dove     |    30.91    |\n",
      "| 2 |   Trident   |    23.36    |\n",
      "| 3 | Coors Light |    17.48    |\n",
      "| 4 |  Tresemmé   |    14.58    |\n",
      "+---+-------------+-------------+\n"
     ]
    }
   ],
   "source": [
    "query2 = '''\n",
    "SELECT p.BRAND, SUM(t.FINAL_SALE) AS Total_Sales\n",
    "FROM transactions t\n",
    "JOIN users u ON t.USER_ID = u.ID\n",
    "JOIN products p ON t.BARCODE = p.BARCODE\n",
    "WHERE u.age >= 21\n",
    "AND DATE('now') >= DATE(u.CREATED_DATE, '+6 months')\n",
    "GROUP BY p.BRAND\n",
    "ORDER BY Total_Sales DESC\n",
    "LIMIT 5;\n",
    "'''\n",
    "\n",
    "# Run the query and store result in a DataFrame\n",
    "result2 = pd.read_sql_query(query2, conn)\n",
    "\n",
    "# Print in a clean table format\n",
    "print(\"Top 5 Brands by Sales Among Users with Accounts for at Least Six Months:\")\n",
    "print(tabulate(result2, headers='keys', tablefmt='pretty'))\n"
   ]
  },
  {
   "cell_type": "markdown",
   "id": "70033dab",
   "metadata": {},
   "source": [
    "3.What is the percentage of sales in the Health & Wellness category by generation?"
   ]
  },
  {
   "cell_type": "code",
   "execution_count": 48,
   "id": "fcced3f2",
   "metadata": {},
   "outputs": [
    {
     "name": "stdout",
     "output_type": "stream",
     "text": [
      "Percentage of Sales in the Health & Wellness Category by Generation:\n",
      "+---+---------------------------+---------------------+\n",
      "|   |        Generation         | Percentage_of_Sales |\n",
      "+---+---------------------------+---------------------+\n",
      "| 0 |       Baby Boomers        |        0.09         |\n",
      "| 1 |       Generation X        |        0.05         |\n",
      "| 2 | Generation Z / Millennial |        0.02         |\n",
      "+---+---------------------------+---------------------+\n"
     ]
    }
   ],
   "source": [
    "query3 = '''\n",
    "WITH health_wellness_sales AS (\n",
    "    SELECT t.USER_ID, t.FINAL_SALE, u.age\n",
    "    FROM transactions t\n",
    "    JOIN users u ON t.USER_ID = u.ID\n",
    "    JOIN products p ON t.BARCODE = p.BARCODE\n",
    "    WHERE p.CATEGORY_1 = 'Health & Wellness'\n",
    "),\n",
    "total_sales AS (\n",
    "    SELECT SUM(FINAL_SALE) AS total\n",
    "    FROM transactions\n",
    ")\n",
    "SELECT \n",
    "    CASE \n",
    "        WHEN age BETWEEN 18 AND 34 THEN 'Generation Z / Millennial'\n",
    "        WHEN age BETWEEN 35 AND 54 THEN 'Generation X'\n",
    "        WHEN age >= 55 THEN 'Baby Boomers'\n",
    "        ELSE 'Unknown'\n",
    "    END AS Generation,\n",
    "    ROUND(SUM(health_wellness_sales.FINAL_SALE) / total_sales.total * 100, 2) AS Percentage_of_Sales\n",
    "FROM health_wellness_sales\n",
    "JOIN total_sales\n",
    "GROUP BY Generation\n",
    "ORDER BY Percentage_of_Sales DESC;\n",
    "'''\n",
    "\n",
    "# Run query and get DataFrame\n",
    "result3 = pd.read_sql_query(query3, conn)\n",
    "\n",
    "# Print the result in table format\n",
    "print(\"Percentage of Sales in the Health & Wellness Category by Generation:\")\n",
    "print(tabulate(result3, headers='keys', tablefmt='pretty'))\n"
   ]
  },
  {
   "cell_type": "code",
   "execution_count": null,
   "id": "a65e2ead",
   "metadata": {},
   "outputs": [],
   "source": []
  },
  {
   "cell_type": "code",
   "execution_count": 49,
   "id": "4ee4c6d1",
   "metadata": {},
   "outputs": [
    {
     "name": "stdout",
     "output_type": "stream",
     "text": [
      "<class 'pandas.core.frame.DataFrame'>\n",
      "RangeIndex: 100000 entries, 0 to 99999\n",
      "Data columns (total 8 columns):\n",
      " #   Column        Non-Null Count   Dtype              \n",
      "---  ------        --------------   -----              \n",
      " 0   ID            100000 non-null  object             \n",
      " 1   CREATED_DATE  100000 non-null  datetime64[ns, UTC]\n",
      " 2   BIRTH_DATE    96325 non-null   datetime64[ns]     \n",
      " 3   STATE         95188 non-null   object             \n",
      " 4   LANGUAGE      69492 non-null   object             \n",
      " 5   GENDER        94108 non-null   object             \n",
      " 6   age           96325 non-null   float64            \n",
      " 7   age_outlier   100000 non-null  bool               \n",
      "dtypes: bool(1), datetime64[ns, UTC](1), datetime64[ns](1), float64(1), object(4)\n",
      "memory usage: 5.4+ MB\n"
     ]
    }
   ],
   "source": [
    "\n",
    "users.info()"
   ]
  },
  {
   "cell_type": "markdown",
   "id": "fa90fea2",
   "metadata": {},
   "source": [
    "### Open Ended Question"
   ]
  },
  {
   "cell_type": "markdown",
   "id": "e81eeb78",
   "metadata": {},
   "source": [
    "Assumption: Power users are defined as users with the highest number of transactions and the highest total spend."
   ]
  },
  {
   "cell_type": "code",
   "execution_count": 51,
   "id": "5bef9f9a",
   "metadata": {},
   "outputs": [
    {
     "name": "stdout",
     "output_type": "stream",
     "text": [
      "Power Users:\n"
     ]
    },
    {
     "data": {
      "text/html": [
       "<div>\n",
       "<style scoped>\n",
       "    .dataframe tbody tr th:only-of-type {\n",
       "        vertical-align: middle;\n",
       "    }\n",
       "\n",
       "    .dataframe tbody tr th {\n",
       "        vertical-align: top;\n",
       "    }\n",
       "\n",
       "    .dataframe thead th {\n",
       "        text-align: right;\n",
       "    }\n",
       "</style>\n",
       "<table border=\"1\" class=\"dataframe\">\n",
       "  <thead>\n",
       "    <tr style=\"text-align: right;\">\n",
       "      <th></th>\n",
       "      <th>USER_ID</th>\n",
       "      <th>total_transactions</th>\n",
       "      <th>total_spent</th>\n",
       "    </tr>\n",
       "  </thead>\n",
       "  <tbody>\n",
       "    <tr>\n",
       "      <th>0</th>\n",
       "      <td>62925c1be942f00613f7365e</td>\n",
       "      <td>10</td>\n",
       "      <td>27.61</td>\n",
       "    </tr>\n",
       "    <tr>\n",
       "      <th>1</th>\n",
       "      <td>64063c8880552327897186a5</td>\n",
       "      <td>9</td>\n",
       "      <td>30.61</td>\n",
       "    </tr>\n",
       "    <tr>\n",
       "      <th>2</th>\n",
       "      <td>609af341659cf474018831fb</td>\n",
       "      <td>7</td>\n",
       "      <td>14.34</td>\n",
       "    </tr>\n",
       "    <tr>\n",
       "      <th>3</th>\n",
       "      <td>6327a07aca87b39d76e03864</td>\n",
       "      <td>7</td>\n",
       "      <td>12.54</td>\n",
       "    </tr>\n",
       "    <tr>\n",
       "      <th>4</th>\n",
       "      <td>60a5363facc00d347abadc8e</td>\n",
       "      <td>6</td>\n",
       "      <td>84.58</td>\n",
       "    </tr>\n",
       "    <tr>\n",
       "      <th>5</th>\n",
       "      <td>5d77d06b0d1bff4316a3ef47</td>\n",
       "      <td>6</td>\n",
       "      <td>57.21</td>\n",
       "    </tr>\n",
       "    <tr>\n",
       "      <th>6</th>\n",
       "      <td>653a0f40909604bae9071473</td>\n",
       "      <td>6</td>\n",
       "      <td>50.74</td>\n",
       "    </tr>\n",
       "    <tr>\n",
       "      <th>7</th>\n",
       "      <td>605a982894a5c74ba439e5ab</td>\n",
       "      <td>6</td>\n",
       "      <td>41.89</td>\n",
       "    </tr>\n",
       "    <tr>\n",
       "      <th>8</th>\n",
       "      <td>5eb59d6be7012d13941af5e2</td>\n",
       "      <td>6</td>\n",
       "      <td>34.99</td>\n",
       "    </tr>\n",
       "    <tr>\n",
       "      <th>9</th>\n",
       "      <td>63f1904938f010745b9a2b60</td>\n",
       "      <td>6</td>\n",
       "      <td>33.02</td>\n",
       "    </tr>\n",
       "  </tbody>\n",
       "</table>\n",
       "</div>"
      ],
      "text/plain": [
       "                    USER_ID  total_transactions  total_spent\n",
       "0  62925c1be942f00613f7365e                  10        27.61\n",
       "1  64063c8880552327897186a5                   9        30.61\n",
       "2  609af341659cf474018831fb                   7        14.34\n",
       "3  6327a07aca87b39d76e03864                   7        12.54\n",
       "4  60a5363facc00d347abadc8e                   6        84.58\n",
       "5  5d77d06b0d1bff4316a3ef47                   6        57.21\n",
       "6  653a0f40909604bae9071473                   6        50.74\n",
       "7  605a982894a5c74ba439e5ab                   6        41.89\n",
       "8  5eb59d6be7012d13941af5e2                   6        34.99\n",
       "9  63f1904938f010745b9a2b60                   6        33.02"
      ]
     },
     "metadata": {},
     "output_type": "display_data"
    }
   ],
   "source": [
    "# 1. Fetch's Power Users: Users with the most transactions\n",
    "power_users_query = \"\"\"\n",
    "SELECT t.USER_ID,COUNT(t.RECEIPT_ID) AS total_transactions,SUM(t.FINAL_SALE) as total_spent\n",
    "FROM transactions t\n",
    "WHERE t.FINAL_SALE IS NOT NULL\n",
    "GROUP BY t.USER_ID\n",
    "ORDER BY total_transactions DESC, total_Spent DESC\n",
    "LIMIT 10;\n",
    "\"\"\"\n",
    "power_users = pd.read_sql_query(power_users_query, conn)\n",
    "\n",
    "# Output the results\n",
    "print(\"Power Users:\")\n",
    "display(power_users)"
   ]
  },
  {
   "cell_type": "markdown",
   "id": "f2c55ffd",
   "metadata": {},
   "source": [
    "Which is the leading brand in the Dips & Salsa category?"
   ]
  },
  {
   "cell_type": "code",
   "execution_count": 58,
   "id": "14bfd66b",
   "metadata": {},
   "outputs": [
    {
     "name": "stdout",
     "output_type": "stream",
     "text": [
      "<class 'pandas.core.frame.DataFrame'>\n",
      "Int64Index: 21882 entries, 25000 to 49999\n",
      "Data columns (total 8 columns):\n",
      " #   Column          Non-Null Count  Dtype              \n",
      "---  ------          --------------  -----              \n",
      " 0   RECEIPT_ID      21882 non-null  object             \n",
      " 1   PURCHASE_DATE   21882 non-null  datetime64[ns]     \n",
      " 2   SCAN_DATE       21882 non-null  datetime64[ns, UTC]\n",
      " 3   STORE_NAME      21882 non-null  object             \n",
      " 4   USER_ID         21882 non-null  object             \n",
      " 5   BARCODE         21882 non-null  float64            \n",
      " 6   FINAL_QUANTITY  21882 non-null  float64            \n",
      " 7   FINAL_SALE      21882 non-null  float64            \n",
      "dtypes: datetime64[ns, UTC](1), datetime64[ns](1), float64(3), object(3)\n",
      "memory usage: 1.5+ MB\n"
     ]
    }
   ],
   "source": [
    "transactions.info()"
   ]
  },
  {
   "cell_type": "code",
   "execution_count": 66,
   "id": "57211fe9",
   "metadata": {},
   "outputs": [
    {
     "data": {
      "text/html": [
       "<div>\n",
       "<style scoped>\n",
       "    .dataframe tbody tr th:only-of-type {\n",
       "        vertical-align: middle;\n",
       "    }\n",
       "\n",
       "    .dataframe tbody tr th {\n",
       "        vertical-align: top;\n",
       "    }\n",
       "\n",
       "    .dataframe thead th {\n",
       "        text-align: right;\n",
       "    }\n",
       "</style>\n",
       "<table border=\"1\" class=\"dataframe\">\n",
       "  <thead>\n",
       "    <tr style=\"text-align: right;\">\n",
       "      <th></th>\n",
       "      <th>BRAND</th>\n",
       "      <th>total_sales</th>\n",
       "    </tr>\n",
       "  </thead>\n",
       "  <tbody>\n",
       "    <tr>\n",
       "      <th>0</th>\n",
       "      <td>Tostitos</td>\n",
       "      <td>36</td>\n",
       "    </tr>\n",
       "  </tbody>\n",
       "</table>\n",
       "</div>"
      ],
      "text/plain": [
       "      BRAND  total_sales\n",
       "0  Tostitos           36"
      ]
     },
     "metadata": {},
     "output_type": "display_data"
    }
   ],
   "source": [
    "leading_brand_query = \"\"\"\n",
    "SELECT p.BRAND, COUNT(t.RECEIPT_ID) AS total_sales\n",
    "FROM products p\n",
    "JOIN transactions t ON p.BARCODE = t.BARCODE\n",
    "WHERE p.CATEGORY_2 = 'Dips & Salsa'\n",
    "GROUP BY p.BRAND\n",
    "ORDER BY total_sales DESC\n",
    "LIMIT 1;\n",
    "\"\"\"\n",
    "\n",
    "leading_brand = pd.read_sql_query(leading_brand_query, conn)\n",
    "display(leading_brand)"
   ]
  },
  {
   "cell_type": "markdown",
   "id": "b68a0641",
   "metadata": {},
   "source": [
    "At what percent has Fetch grown year over year?"
   ]
  },
  {
   "cell_type": "code",
   "execution_count": 69,
   "id": "d1d897d4",
   "metadata": {},
   "outputs": [
    {
     "data": {
      "text/html": [
       "<div>\n",
       "<style scoped>\n",
       "    .dataframe tbody tr th:only-of-type {\n",
       "        vertical-align: middle;\n",
       "    }\n",
       "\n",
       "    .dataframe tbody tr th {\n",
       "        vertical-align: top;\n",
       "    }\n",
       "\n",
       "    .dataframe thead th {\n",
       "        text-align: right;\n",
       "    }\n",
       "</style>\n",
       "<table border=\"1\" class=\"dataframe\">\n",
       "  <thead>\n",
       "    <tr style=\"text-align: right;\">\n",
       "      <th></th>\n",
       "      <th>year</th>\n",
       "      <th>total_transactions</th>\n",
       "      <th>growth_percent</th>\n",
       "    </tr>\n",
       "  </thead>\n",
       "  <tbody>\n",
       "    <tr>\n",
       "      <th>0</th>\n",
       "      <td>2024</td>\n",
       "      <td>21882</td>\n",
       "      <td>NaN</td>\n",
       "    </tr>\n",
       "  </tbody>\n",
       "</table>\n",
       "</div>"
      ],
      "text/plain": [
       "   year  total_transactions  growth_percent\n",
       "0  2024               21882             NaN"
      ]
     },
     "metadata": {},
     "output_type": "display_data"
    }
   ],
   "source": [
    "growth_query = \"\"\"\n",
    "SELECT strftime('%Y', PURCHASE_DATE) AS year, COUNT(RECEIPT_ID) AS total_transactions\n",
    "FROM transactions\n",
    "GROUP BY year\n",
    "ORDER BY year;\n",
    "\"\"\"\n",
    "\n",
    "yearly_transactions = pd.read_sql_query(growth_query, conn)\n",
    "\n",
    "# Convert year to int and calculate YoY growth %\n",
    "yearly_transactions['year'] = yearly_transactions['year'].astype(int)\n",
    "yearly_transactions['growth_percent'] = yearly_transactions['total_transactions'].pct_change() * 100\n",
    "\n",
    "display(yearly_transactions)\n",
    "\n"
   ]
  },
  {
   "cell_type": "code",
   "execution_count": null,
   "id": "435bd597",
   "metadata": {},
   "outputs": [],
   "source": []
  }
 ],
 "metadata": {
  "kernelspec": {
   "display_name": "Python 3 (ipykernel)",
   "language": "python",
   "name": "python3"
  },
  "language_info": {
   "codemirror_mode": {
    "name": "ipython",
    "version": 3
   },
   "file_extension": ".py",
   "mimetype": "text/x-python",
   "name": "python",
   "nbconvert_exporter": "python",
   "pygments_lexer": "ipython3",
   "version": "3.9.12"
  }
 },
 "nbformat": 4,
 "nbformat_minor": 5
}
